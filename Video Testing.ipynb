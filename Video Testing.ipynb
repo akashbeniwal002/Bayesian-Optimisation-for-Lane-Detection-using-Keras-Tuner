{
 "cells": [
  {
   "cell_type": "code",
   "execution_count": null,
   "id": "7f925c36",
   "metadata": {},
   "outputs": [],
   "source": [
    "import cv2\n",
    "import numpy as np\n",
    "from tensorflow import keras\n",
    "\n",
    "model = keras.models.load_model('best_model.h5',compile=False)\n",
    "\n",
    "vidObj = cv2.VideoCapture('input_video.mp4')\n",
    "\n",
    "frame_width = int(vidObj.get(3))\n",
    "frame_height = int(vidObj.get(4))\n",
    "fps = vidObj.get(cv2.CAP_PROP_FPS)\n",
    "\n",
    "size = (frame_width, frame_height)\n",
    "\n",
    "result = cv2.VideoWriter(\"output_video.avi\", cv2.VideoWriter_fourcc(*'MJPG'),\n",
    "                         fps, size)\n",
    "\n",
    "while vidObj.isOpened():\n",
    "    \n",
    "    success, image = vidObj.read()\n",
    "    \n",
    "    if not success:\n",
    "        continue\n",
    "        \n",
    "    h,w,_=image.shape\n",
    "    img = cv2.resize(image,(128,128))\n",
    "    img=np.array([img])\n",
    "\n",
    "    pred=model.predict(img,verbose=0)\n",
    "    pred=pred[0][...,0]\n",
    "    pred=cv2.resize(pred,(w,h))\n",
    "    pred[pred>=0.5]=255\n",
    "    pred[pred<0.5]=0\n",
    "\n",
    "    image[:,:,1]=image[:,:,1]+pred*.2\n",
    "    \n",
    "    result.write(image)\n",
    "\n",
    "    cv2.imshow('video',image)\n",
    "    if cv2.waitKey(25) & 0xFF == ord('q'):\n",
    "            break\n",
    "vidObj.release()\n",
    "result.release()\n",
    "cv2.destroyAllWindows()"
   ]
  }
 ],
 "metadata": {
  "kernelspec": {
   "display_name": "Python 3 (ipykernel)",
   "language": "python",
   "name": "python3"
  },
  "language_info": {
   "codemirror_mode": {
    "name": "ipython",
    "version": 3
   },
   "file_extension": ".py",
   "mimetype": "text/x-python",
   "name": "python",
   "nbconvert_exporter": "python",
   "pygments_lexer": "ipython3",
   "version": "3.9.13"
  }
 },
 "nbformat": 4,
 "nbformat_minor": 5
}
