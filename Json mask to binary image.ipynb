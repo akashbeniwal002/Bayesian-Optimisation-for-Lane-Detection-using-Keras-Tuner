{
 "cells": [
  {
   "cell_type": "code",
   "execution_count": 1,
   "id": "8f6ec373",
   "metadata": {},
   "outputs": [],
   "source": [
    "from skimage import io\n",
    "import numpy as np\n",
    "import urllib.request\n",
    "import json\n",
    "import logging\n",
    "import os\n",
    "import sys\n",
    "from tqdm import tqdm\n",
    "import cv2\n",
    "from skimage.draw import polygon"
   ]
  },
  {
   "cell_type": "code",
   "execution_count": 2,
   "id": "2c4f70a3",
   "metadata": {},
   "outputs": [],
   "source": [
    "def convert_json_to_mask_image(path_json):\n",
    "    f = open(path_json)\n",
    "    train = []\n",
    "    objects = json.load(f)\n",
    "    blobs = []\n",
    "    annotations = objects['shapes']\n",
    "    h = objects['imageHeight']\n",
    "    w = objects['imageWidth']\n",
    "    for annot in annotations:\n",
    "        label= annot['label']\n",
    "        points = annot['points']\n",
    "\n",
    "        x_coord = []\n",
    "        y_coord = []\n",
    "        for p in points:\n",
    "            x_coord.append(int(p[0] ))\n",
    "            y_coord.append(int(p[1] ))\n",
    "        shape = (h, w)\n",
    "        l = []\n",
    "        l.append(np.array(x_coord))\n",
    "        l.append(np.array(y_coord))\n",
    "        l.append(shape)\n",
    "        blobs.append(l)\n",
    "                \n",
    "    mask = np.zeros((h, w))\n",
    "    for l in blobs:\n",
    "        fill_row_coords, fill_col_coords = polygon(l[1], l[0],l[2])\n",
    "        mask[fill_row_coords, fill_col_coords] = 255\n",
    "    cv2.imwrite(path_json[:-5] + \".png\", mask)"
   ]
  },
  {
   "cell_type": "code",
   "execution_count": 3,
   "id": "2a3765ea",
   "metadata": {},
   "outputs": [
    {
     "name": "stderr",
     "output_type": "stream",
     "text": [
      "100%|████████████████████████████████████████████████████████████████████████████████████| 6/6 [00:01<00:00,  3.55it/s]\n"
     ]
    }
   ],
   "source": [
    "path=r'G:\\labelled frames'\n",
    "\n",
    "for root, dirs, files in os.walk(path):\n",
    "    for file in tqdm([f for f in files if f.endswith('.json')]):\n",
    "        src= root+'/'+file\n",
    "        convert_json_to_mask_image(src)"
   ]
  },
  {
   "cell_type": "code",
   "execution_count": null,
   "id": "62b0ffd6",
   "metadata": {},
   "outputs": [],
   "source": []
  }
 ],
 "metadata": {
  "kernelspec": {
   "display_name": "Python 3 (ipykernel)",
   "language": "python",
   "name": "python3"
  },
  "language_info": {
   "codemirror_mode": {
    "name": "ipython",
    "version": 3
   },
   "file_extension": ".py",
   "mimetype": "text/x-python",
   "name": "python",
   "nbconvert_exporter": "python",
   "pygments_lexer": "ipython3",
   "version": "3.9.13"
  }
 },
 "nbformat": 4,
 "nbformat_minor": 5
}
